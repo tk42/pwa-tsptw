{
  "cells": [
    {
      "cell_type": "code",
      "execution_count": 1,
      "metadata": {
        "colab": {
          "base_uri": "https://localhost:8080/"
        },
        "id": "0TlvgJMu1ARe",
        "outputId": "123f9058-d143-4c4d-9885-b689b0a24c54"
      },
      "outputs": [
        {
          "name": "stdout",
          "output_type": "stream",
          "text": [
            "\u001b[33mDEPRECATION: Configuring installation scheme with distutils config files is deprecated and will no longer work in the near future. If you are using a Homebrew or Linuxbrew Python, please see discussion at https://github.com/Homebrew/homebrew-core/issues/76621\u001b[0m\u001b[33m\n",
            "\u001b[0mCollecting ortools\n",
            "  Downloading ortools-9.4.1874-cp39-cp39-macosx_11_0_arm64.whl (11.7 MB)\n",
            "\u001b[2K     \u001b[90m━━━━━━━━━━━━━━━━━━━━━━━━━━━━━━━━━━━━━━━━\u001b[0m \u001b[32m11.7/11.7 MB\u001b[0m \u001b[31m4.4 MB/s\u001b[0m eta \u001b[36m0:00:00\u001b[0m00:01\u001b[0m00:01\u001b[0m\n",
            "\u001b[?25hCollecting protobuf>=3.19.4\n",
            "  Downloading protobuf-4.21.5-cp37-abi3-macosx_10_9_universal2.whl (484 kB)\n",
            "\u001b[2K     \u001b[90m━━━━━━━━━━━━━━━━━━━━━━━━━━━━━━━━━━━━━━━\u001b[0m \u001b[32m484.0/484.0 kB\u001b[0m \u001b[31m4.5 MB/s\u001b[0m eta \u001b[36m0:00:00\u001b[0m00:01\u001b[0m00:01\u001b[0m\n",
            "\u001b[?25hRequirement already satisfied: absl-py>=0.13 in /opt/homebrew/lib/python3.9/site-packages (from ortools) (1.2.0)\n",
            "Requirement already satisfied: numpy>=1.13.3 in /opt/homebrew/lib/python3.9/site-packages (from ortools) (1.22.4)\n",
            "Installing collected packages: protobuf, ortools\n",
            "  Attempting uninstall: protobuf\n",
            "    Found existing installation: protobuf 3.11.2\n",
            "    Uninstalling protobuf-3.11.2:\n",
            "      Successfully uninstalled protobuf-3.11.2\n",
            "\u001b[33m  DEPRECATION: Configuring installation scheme with distutils config files is deprecated and will no longer work in the near future. If you are using a Homebrew or Linuxbrew Python, please see discussion at https://github.com/Homebrew/homebrew-core/issues/76621\u001b[0m\u001b[33m\n",
            "\u001b[0m\u001b[33m  DEPRECATION: Configuring installation scheme with distutils config files is deprecated and will no longer work in the near future. If you are using a Homebrew or Linuxbrew Python, please see discussion at https://github.com/Homebrew/homebrew-core/issues/76621\u001b[0m\u001b[33m\n",
            "\u001b[0m\u001b[33mDEPRECATION: Configuring installation scheme with distutils config files is deprecated and will no longer work in the near future. If you are using a Homebrew or Linuxbrew Python, please see discussion at https://github.com/Homebrew/homebrew-core/issues/76621\u001b[0m\u001b[33m\n",
            "\u001b[0m\u001b[31mERROR: pip's dependency resolver does not currently take into account all the packages that are installed. This behaviour is the source of the following dependency conflicts.\n",
            "tensorboard 2.9.1 requires protobuf<3.20,>=3.9.2, but you have protobuf 4.21.5 which is incompatible.\n",
            "pytorch-lightning 1.6.5 requires protobuf<=3.20.1, but you have protobuf 4.21.5 which is incompatible.\u001b[0m\u001b[31m\n",
            "\u001b[0mSuccessfully installed ortools-9.4.1874 protobuf-4.21.5\n",
            "\n",
            "\u001b[1m[\u001b[0m\u001b[34;49mnotice\u001b[0m\u001b[1;39;49m]\u001b[0m\u001b[39;49m A new release of pip available: \u001b[0m\u001b[31;49m22.1.2\u001b[0m\u001b[39;49m -> \u001b[0m\u001b[32;49m22.2.2\u001b[0m\n",
            "\u001b[1m[\u001b[0m\u001b[34;49mnotice\u001b[0m\u001b[1;39;49m]\u001b[0m\u001b[39;49m To update, run: \u001b[0m\u001b[32;49mpython3.9 -m pip install --upgrade pip\u001b[0m\n"
          ]
        }
      ],
      "source": [
        "!pip install ortools"
      ]
    },
    {
      "cell_type": "markdown",
      "metadata": {
        "id": "Yi02PPnJ5UvN"
      },
      "source": [
        "# VRPTW\n",
        "[Vehicle Routing Problem with Time Windows](https://developers.google.com/optimization/routing/vrptw)"
      ]
    },
    {
      "cell_type": "code",
      "execution_count": 3,
      "metadata": {},
      "outputs": [
        {
          "name": "stdout",
          "output_type": "stream",
          "text": [
            "[[ 0.  6.  9.  8.  7.]\n",
            " [31.  0. 33. 28. 27.]\n",
            " [29. 28.  0. 31. 30.]\n",
            " [18. 13. 21.  0. 11.]\n",
            " [37. 32. 40. 31.  0.]]\n",
            "Objective: 113\n",
            "Route for vehicle 0:\n",
            "0 Time(0,0) -> 2 Time(90,90) -> 1 Time(118,118) -> 4 Time(145,145) -> 3 Time(176,176) -> 0 Time(194,194)\n",
            "Time of the route: 194min\n",
            "\n",
            "Total time of all routes: 194min\n"
          ]
        }
      ],
      "source": [
        "\"\"\"Vehicles Routing Problem (VRP) with Time Windows.\"\"\"\n",
        "\n",
        "from ortools.constraint_solver import routing_enums_pb2\n",
        "from ortools.constraint_solver import pywrapcp\n",
        "import numpy as np\n",
        "\n",
        "def create_time_matrix(upper_trigonal_between_time_array, consumed_time_list):\n",
        "    n = len(consumed_time_list)\n",
        "    assert upper_trigonal_between_time_array.shape == (n,n), f\"{upper_trigonal_between_time_array.shape} != ({n}, {n})\"\n",
        "    arr = np.zeros((n, n))\n",
        "    for i in range(n):\n",
        "      for j in range(n):\n",
        "        if i == j:\n",
        "          continue\n",
        "        arr[i][j] = consumed_time_list[i] + upper_trigonal_between_time_array[min(i, j)][max(i, j)]\n",
        "    return arr\n",
        "\n",
        "def create_data_model():\n",
        "    \"\"\"Stores the data for the problem.\"\"\"\n",
        "    data = {}\n",
        "    upper_trigonal_between_time_array = np.array([\n",
        "        [0, 6, 9, 8, 7],\n",
        "        [6, 0, 8, 3, 2],\n",
        "        [9, 8, 0, 11, 10],\n",
        "        [8, 3, 11, 0, 1],\n",
        "        [7, 2, 10, 1, 0],\n",
        "    ])\n",
        "    consumed_time_list = [0, 25, 20, 10, 30]\n",
        "    data['time_matrix'] = create_time_matrix(upper_trigonal_between_time_array, consumed_time_list)\n",
        "    print(data['time_matrix'])\n",
        "    # https://developers.google.com/optimization/reference/python/constraint_solver/pywrapcp#intvar\n",
        "    data['time_windows'] = [\n",
        "        (0, 60*8),  # depot\n",
        "        (0, 120),\n",
        "        (90, 150),\n",
        "        (150, 210),\n",
        "        (0, 180),\n",
        "    ]\n",
        "    data['num_vehicles'] = 1\n",
        "    data['depot'] = 0\n",
        "    return data\n",
        "\n",
        "\n",
        "def print_solution(data, manager, routing, solution):\n",
        "    \"\"\"Prints solution on console.\"\"\"\n",
        "    print(f'Objective: {solution.ObjectiveValue()}')\n",
        "    time_dimension = routing.GetDimensionOrDie('Time')\n",
        "    total_time = 0\n",
        "    for vehicle_id in range(data['num_vehicles']):\n",
        "        index = routing.Start(vehicle_id)\n",
        "        plan_output = 'Route for vehicle {}:\\n'.format(vehicle_id)\n",
        "        while not routing.IsEnd(index):\n",
        "            time_var = time_dimension.CumulVar(index)\n",
        "            plan_output += '{0} Time({1},{2}) -> '.format(\n",
        "                manager.IndexToNode(index), solution.Min(time_var),\n",
        "                solution.Max(time_var))\n",
        "            index = solution.Value(routing.NextVar(index))\n",
        "        time_var = time_dimension.CumulVar(index)\n",
        "        plan_output += '{0} Time({1},{2})\\n'.format(manager.IndexToNode(index),\n",
        "                                                    solution.Min(time_var),\n",
        "                                                    solution.Max(time_var))\n",
        "        plan_output += 'Time of the route: {}min\\n'.format(\n",
        "            solution.Min(time_var))\n",
        "        print(plan_output)\n",
        "        total_time += solution.Min(time_var)\n",
        "    print('Total time of all routes: {}min'.format(total_time))\n",
        "\n",
        "\n",
        "def main():\n",
        "    \"\"\"Solve the VRP with time windows.\"\"\"\n",
        "    # Instantiate the data problem.\n",
        "    data = create_data_model()\n",
        "\n",
        "    # Create the routing index manager.\n",
        "    manager = pywrapcp.RoutingIndexManager(len(data['time_matrix']),\n",
        "                                           data['num_vehicles'], data['depot'])\n",
        "\n",
        "    # Create Routing Model.\n",
        "    routing = pywrapcp.RoutingModel(manager)\n",
        "\n",
        "\n",
        "    # Create and register a transit callback.\n",
        "    def time_callback(from_index, to_index):\n",
        "        \"\"\"Returns the travel time between the two nodes.\"\"\"\n",
        "        # Convert from routing variable Index to time matrix NodeIndex.\n",
        "        from_node = manager.IndexToNode(from_index)\n",
        "        to_node = manager.IndexToNode(to_index)\n",
        "        return data['time_matrix'][from_node][to_node]\n",
        "\n",
        "    transit_callback_index = routing.RegisterTransitCallback(time_callback)\n",
        "\n",
        "    # Define cost of each arc.\n",
        "    routing.SetArcCostEvaluatorOfAllVehicles(transit_callback_index)\n",
        "\n",
        "    # Add Time Windows constraint.\n",
        "    time = 'Time'\n",
        "    routing.AddDimension(\n",
        "        transit_callback_index,\n",
        "        60*8,  # allow waiting time [min]\n",
        "        60*8,  # maximum time [min] per vehicle until return\n",
        "        False,  # Don't force start cumul to zero.\n",
        "        time)\n",
        "    time_dimension = routing.GetDimensionOrDie(time)\n",
        "    # Add time window constraints for each location except depot.\n",
        "    for location_idx, time_window in enumerate(data['time_windows']):\n",
        "        if location_idx == data['depot']:\n",
        "            continue\n",
        "        index = manager.NodeToIndex(location_idx)\n",
        "        # for time_window in time_windows:\n",
        "        time_dimension.CumulVar(index).SetRange(time_window[0], time_window[1])\n",
        "    # Add time window constraints for each vehicle start node.\n",
        "    depot_idx = data['depot']\n",
        "    for vehicle_id in range(data['num_vehicles']):\n",
        "        index = routing.Start(vehicle_id)\n",
        "        time_dimension.CumulVar(index).SetRange(\n",
        "            data['time_windows'][depot_idx][0],\n",
        "            data['time_windows'][depot_idx][1])\n",
        "\n",
        "    # Instantiate route start and end times to produce feasible times.\n",
        "    for i in range(data['num_vehicles']):\n",
        "        routing.AddVariableMinimizedByFinalizer(\n",
        "            time_dimension.CumulVar(routing.Start(i)))\n",
        "        routing.AddVariableMinimizedByFinalizer(\n",
        "            time_dimension.CumulVar(routing.End(i)))\n",
        "\n",
        "    # Setting first solution heuristic.\n",
        "    search_parameters = pywrapcp.DefaultRoutingSearchParameters()\n",
        "    search_parameters.first_solution_strategy = (\n",
        "        routing_enums_pb2.FirstSolutionStrategy.PATH_CHEAPEST_ARC)\n",
        "\n",
        "    # Solve the problem.\n",
        "    solution = routing.SolveWithParameters(search_parameters)\n",
        "\n",
        "    # Print solution on console.\n",
        "    if solution:\n",
        "      print_solution(data, manager, routing, solution)\n",
        "    else:\n",
        "      print(\"Not found the solution\")\n",
        "\n",
        "\n",
        "if __name__ == '__main__':\n",
        "    main()"
      ]
    },
    {
      "cell_type": "markdown",
      "metadata": {
        "id": "O6p86MOP1XdO"
      },
      "source": [
        "# Exercise\n",
        "\n",
        "[GoogleのOR-Toolsで数理最適化モデルの練習問題を解く(1)一番易しいマス埋め問題](https://qiita.com/ttabata/items/7e8c93f387814f99931f)"
      ]
    },
    {
      "cell_type": "code",
      "execution_count": 2,
      "metadata": {
        "id": "uE-HRGg11Jhf"
      },
      "outputs": [],
      "source": [
        "from __future__ import print_function\n",
        "from ortools.linear_solver import pywraplp"
      ]
    },
    {
      "cell_type": "code",
      "execution_count": 3,
      "metadata": {
        "id": "hixzSKhD1bpt"
      },
      "outputs": [],
      "source": [
        "# Create the mip solver with the CBC backend.\n",
        "solver = pywraplp.Solver('simple_mip_program',\n",
        "                             pywraplp.Solver.CBC_MIXED_INTEGER_PROGRAMMING)"
      ]
    },
    {
      "cell_type": "code",
      "execution_count": 4,
      "metadata": {
        "id": "3l-l1nAQ1e9O"
      },
      "outputs": [],
      "source": [
        "# Var1,Var2,Var3についての非負条件(マイナス値でないこと)\n",
        "Var1 = solver.IntVar(0.0, 1, 'Var1')\n",
        "Var2 = solver.IntVar(0.0, 1, 'Var2')\n",
        "Var3 = solver.IntVar(0.0, 1, 'Var3')"
      ]
    },
    {
      "cell_type": "code",
      "execution_count": 5,
      "metadata": {
        "colab": {
          "base_uri": "https://localhost:8080/"
        },
        "id": "NTmE_NwA1gjV",
        "outputId": "28798190-4d00-433d-a87a-964a1633a4ca"
      },
      "outputs": [
        {
          "data": {
            "text/plain": [
              "<ortools.linear_solver.pywraplp.Constraint; proxy of <Swig Object of type 'operations_research::MPConstraint *' at 0x7f3423955c00> >"
            ]
          },
          "execution_count": 5,
          "metadata": {},
          "output_type": "execute_result"
        }
      ],
      "source": [
        "solver.Add(Var1 + Var2 + Var3 == 1)"
      ]
    },
    {
      "cell_type": "code",
      "execution_count": 6,
      "metadata": {
        "colab": {
          "base_uri": "https://localhost:8080/"
        },
        "id": "teD4pwMI1h7B",
        "outputId": "e24b0dbd-61bc-4469-c3f3-94b4886c7ab0"
      },
      "outputs": [
        {
          "data": {
            "text/plain": [
              "<ortools.linear_solver.pywraplp.Constraint; proxy of <Swig Object of type 'operations_research::MPConstraint *' at 0x7f341d9eb090> >"
            ]
          },
          "execution_count": 6,
          "metadata": {},
          "output_type": "execute_result"
        }
      ],
      "source": [
        "solver.Add(1 * Var1 + 2 * Var2 + 3 * Var3 == 2)"
      ]
    },
    {
      "cell_type": "code",
      "execution_count": 7,
      "metadata": {
        "id": "aQAtuqYp1j3l"
      },
      "outputs": [],
      "source": [
        "status = solver.Solve()"
      ]
    },
    {
      "cell_type": "code",
      "execution_count": 8,
      "metadata": {
        "colab": {
          "base_uri": "https://localhost:8080/"
        },
        "id": "VpCPrIDX1lp3",
        "outputId": "2877adec-1241-4dc7-903d-d7c26e392a59"
      },
      "outputs": [
        {
          "name": "stdout",
          "output_type": "stream",
          "text": [
            "Solution Done! The result is below.\n",
            "Var1= 0.0\n",
            "Var2= 1.0\n",
            "Var3= 0.0\n"
          ]
        }
      ],
      "source": [
        "if status == pywraplp.Solver.OPTIMAL:\n",
        "    print('Solution Done! The result is below.')\n",
        "    print('Var1=',Var1.solution_value())\n",
        "    print('Var2=',Var2.solution_value())\n",
        "    print('Var3=',Var3.solution_value())\n",
        "else:\n",
        "    print('Unsolved the problems.')"
      ]
    },
    {
      "cell_type": "markdown",
      "metadata": {
        "id": "6cGjJZlv2KlS"
      },
      "source": [
        "[Traveling Salesperson Problem](https://developers.google.com/optimization/routing/tsp)"
      ]
    },
    {
      "cell_type": "code",
      "execution_count": 23,
      "metadata": {
        "id": "s7oBn_fQ1nuk"
      },
      "outputs": [],
      "source": [
        "from ortools.constraint_solver import pywrapcp\n",
        "from ortools.constraint_solver import routing_enums_pb2\n",
        "\n",
        "def create_data_model():\n",
        "    \"\"\"Stores the data for the problem.\"\"\"\n",
        "    data = {}\n",
        "    data['distance_matrix'] = [\n",
        "        [0, 2451, 713, 1018, 1631, 1374, 2408, 213, 2571, 875, 1420, 2145, 1972],\n",
        "        [2451, 0, 1745, 1524, 831, 1240, 959, 2596, 403, 1589, 1374, 357, 579],\n",
        "        [713, 1745, 0, 355, 920, 803, 1737, 851, 1858, 262, 940, 1453, 1260],\n",
        "        [1018, 1524, 355, 0, 700, 862, 1395, 1123, 1584, 466, 1056, 1280, 987],\n",
        "        [1631, 831, 920, 700, 0, 663, 1021, 1769, 949, 796, 879, 586, 371],\n",
        "        [1374, 1240, 803, 862, 663, 0, 1681, 1551, 1765, 547, 225, 887, 999],\n",
        "        [2408, 959, 1737, 1395, 1021, 1681, 0, 2493, 678, 1724, 1891, 1114, 701],\n",
        "        [213, 2596, 851, 1123, 1769, 1551, 2493, 0, 2699, 1038, 1605, 2300, 2099],\n",
        "        [2571, 403, 1858, 1584, 949, 1765, 678, 2699, 0, 1744, 1645, 653, 600],\n",
        "        [875, 1589, 262, 466, 796, 547, 1724, 1038, 1744, 0, 679, 1272, 1162],\n",
        "        [1420, 1374, 940, 1056, 879, 225, 1891, 1605, 1645, 679, 0, 1017, 1200],\n",
        "        [2145, 357, 1453, 1280, 586, 887, 1114, 2300, 653, 1272, 1017, 0, 504],\n",
        "        [1972, 579, 1260, 987, 371, 999, 701, 2099, 600, 1162, 1200, 504, 0],\n",
        "    ]  # yapf: disable\n",
        "    data['num_vehicles'] = 1\n",
        "    data['depot'] = 0\n",
        "    return data\n",
        "  \n",
        "def print_solution(manager, routing, solution):\n",
        "    \"\"\"Prints solution on console.\"\"\"\n",
        "    print('Objective: {}'.format(solution.ObjectiveValue()))\n",
        "    index = routing.Start(0)\n",
        "    plan_output = 'Route:\\n'\n",
        "    route_distance = 0\n",
        "    while not routing.IsEnd(index):\n",
        "        plan_output += ' {} ->'.format(manager.IndexToNode(index))\n",
        "        previous_index = index\n",
        "        index = solution.Value(routing.NextVar(index))\n",
        "        route_distance += routing.GetArcCostForVehicle(previous_index, index, 0)\n",
        "    plan_output += ' {}\\n'.format(manager.IndexToNode(index))\n",
        "    print(plan_output)\n",
        "    plan_output += 'Objective: {}m\\n'.format(route_distance)"
      ]
    },
    {
      "cell_type": "code",
      "execution_count": 24,
      "metadata": {
        "id": "U3Bds8uF2Uhy"
      },
      "outputs": [],
      "source": [
        "data = create_data_model()"
      ]
    },
    {
      "cell_type": "code",
      "execution_count": 25,
      "metadata": {
        "colab": {
          "base_uri": "https://localhost:8080/"
        },
        "id": "xnTABeiI2WrK",
        "outputId": "00fb2bd6-cd3e-42f9-f3bd-d9f1bec492f5"
      },
      "outputs": [
        {
          "name": "stdout",
          "output_type": "stream",
          "text": [
            "Objective: 7293\n",
            "Route:\n",
            " 0 -> 7 -> 2 -> 3 -> 4 -> 12 -> 6 -> 8 -> 1 -> 11 -> 10 -> 5 -> 9 -> 0\n",
            "\n"
          ]
        }
      ],
      "source": [
        "# Create the routing index manager.\n",
        "manager = pywrapcp.RoutingIndexManager(len(data['distance_matrix']),\n",
        "                                        data['num_vehicles'], data['depot'])\n",
        "\n",
        "# Create Routing Model.\n",
        "routing = pywrapcp.RoutingModel(manager)\n",
        "\n",
        "\n",
        "def distance_callback(from_index, to_index):\n",
        "    \"\"\"Returns the distance between the two nodes.\"\"\"\n",
        "    # Convert from routing variable Index to distance matrix NodeIndex.\n",
        "    from_node = manager.IndexToNode(from_index)\n",
        "    to_node = manager.IndexToNode(to_index)\n",
        "    return data['distance_matrix'][from_node][to_node]\n",
        "\n",
        "transit_callback_index = routing.RegisterTransitCallback(distance_callback)\n",
        "\n",
        "# Define cost of each arc.\n",
        "routing.SetArcCostEvaluatorOfAllVehicles(transit_callback_index)\n",
        "\n",
        "# Setting first solution heuristic.\n",
        "search_parameters = pywrapcp.DefaultRoutingSearchParameters()\n",
        "search_parameters.first_solution_strategy = (\n",
        "    routing_enums_pb2.FirstSolutionStrategy.PATH_CHEAPEST_ARC)\n",
        "\n",
        "# Solve the problem.\n",
        "solution = routing.SolveWithParameters(search_parameters)\n",
        "\n",
        "# Print solution on console.\n",
        "if solution:\n",
        "    print_solution(manager, routing, solution)\n"
      ]
    },
    {
      "cell_type": "code",
      "execution_count": null,
      "metadata": {
        "id": "FbITi0nE5h5-"
      },
      "outputs": [],
      "source": []
    }
  ],
  "metadata": {
    "colab": {
      "collapsed_sections": [],
      "name": "vrptw.ipynb",
      "provenance": []
    },
    "kernelspec": {
      "display_name": "Python 3.9.12 64-bit",
      "language": "python",
      "name": "python3"
    },
    "language_info": {
      "codemirror_mode": {
        "name": "ipython",
        "version": 3
      },
      "file_extension": ".py",
      "mimetype": "text/x-python",
      "name": "python",
      "nbconvert_exporter": "python",
      "pygments_lexer": "ipython3",
      "version": "3.9.12"
    },
    "vscode": {
      "interpreter": {
        "hash": "b0fa6594d8f4cbf19f97940f81e996739fb7646882a419484c72d19e05852a7e"
      }
    }
  },
  "nbformat": 4,
  "nbformat_minor": 0
}
