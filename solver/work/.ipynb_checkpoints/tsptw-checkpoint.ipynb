{
 "cells": [
  {
   "cell_type": "code",
   "execution_count": null,
   "id": "7ae4b33a-9458-4a5f-9376-684d270c821d",
   "metadata": {},
   "outputs": [
    {
     "ename": "",
     "evalue": "",
     "output_type": "error",
     "traceback": [
      "\u001b[1;31mFailed to start the Kernel. \n",
      "\u001b[1;31m'_xsrf' argument missing from POST. \n",
      "View Jupyter <a href='command:jupyter.viewOutput'>log</a> for further details."
     ]
    }
   ],
   "source": [
    "from pyomo.environ import *\n",
    "from pyomo.opt import SolverFactory\n",
    "\n",
    "I = 4\n",
    "T = 100\n",
    "t_list = [15, 20, 50, 5]\n",
    "t = dict((i, t_list[i-1]) for i in range(1, I+1))\n",
    "a_list = [10, 1, 24, 4]\n",
    "a = dict((i, a_list[i-1]) for i in range(1, I+1))\n",
    "\n",
    "\n",
    "M = ConcreteModel(\"Days allocation\")\n",
    "M.I = Set(initialize=range(1, I+1))\n",
    "M.x = Var(M.I, within=NonNegativeIntegers)\n",
    "M.x_sum = sum(M.x[i] for i in M.I)\n",
    "def const_rule1(model):\n",
    "    return M.x_sum <= T\n",
    "def const_rule2(model, i):\n",
    "    return M.x[i] >= t[i]\n",
    "M.const1 = Constraint(rule=const_rule1)\n",
    "M.const2 = Constraint(M.I, rule=const_rule2)\n",
    "def obj_rule(model):\n",
    "    return sum(a[i] * M.x[i] + 1.0 for i in M.I)\n",
    "M.value = Objective(rule=obj_rule, sense=maximize)\n",
    "\n",
    "opt = SolverFactory(\"glpk\")\n",
    "result = opt.solve(M, tee=True)\n",
    "M.display()"
   ]
  },
  {
   "cell_type": "code",
   "execution_count": null,
   "id": "8b2c910e-c263-4e6e-a79d-b319b2f63e9b",
   "metadata": {},
   "outputs": [],
   "source": []
  }
 ],
 "metadata": {
  "kernelspec": {
   "display_name": "Python 3 (ipykernel)",
   "language": "python",
   "name": "python3"
  },
  "language_info": {
   "name": ""
  },
  "vscode": {
   "interpreter": {
    "hash": "31f2aee4e71d21fbe5cf8b01ff0e069b9275f58929596ceb00d14d90e3e16cd6"
   }
  }
 },
 "nbformat": 4,
 "nbformat_minor": 5
}
